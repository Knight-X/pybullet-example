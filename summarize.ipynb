{
 "cells": [
  {
   "cell_type": "code",
   "execution_count": 1,
   "metadata": {},
   "outputs": [],
   "source": [
    "%matplotlib inline"
   ]
  },
  {
   "cell_type": "code",
   "execution_count": 2,
   "metadata": {},
   "outputs": [],
   "source": [
    "from stable_baselines.results_plotter import load_results, ts2xy"
   ]
  },
  {
   "cell_type": "code",
   "execution_count": 3,
   "metadata": {},
   "outputs": [],
   "source": [
    "import papermill as pm\n",
    "import numpy as np\n",
    "import matplotlib.pyplot as plt"
   ]
  },
  {
   "cell_type": "code",
   "execution_count": 4,
   "metadata": {},
   "outputs": [],
   "source": [
    "def movingAverage(values, window):\n",
    "    \"\"\"\n",
    "    Smooth values by doing a moving average\n",
    "    :param values: (numpy array)\n",
    "    :param window: (int)\n",
    "    :return: (numpy array)\n",
    "    \"\"\"\n",
    "    weights = np.repeat(1.0, window) / window\n",
    "    return np.convolve(values, weights, 'valid')\n",
    "\n",
    "\n",
    "def plot_results(log_folder, title='Learning Curve'):\n",
    "    \"\"\"\n",
    "    plot the results\n",
    "\n",
    "    :param log_folder: (str) the save location of the results to plot\n",
    "    :param title: (str) the title of the task to plot\n",
    "    \"\"\"\n",
    "    x, y = ts2xy(load_results(log_folder), 'timesteps')\n",
    "    y = movingAverage(y, window=50)\n",
    "    # Truncate x\n",
    "    x = x[len(x) - len(y):]\n",
    "\n",
    "    fig = plt.figure(title)\n",
    "    plt.plot(x, y)\n",
    "    plt.xlabel('Number of Timesteps')\n",
    "    plt.ylabel('Rewards')\n",
    "    plt.title(title + \" Smoothed\")\n",
    "    plt.show()\n"
   ]
  },
  {
   "cell_type": "code",
   "execution_count": null,
   "metadata": {},
   "outputs": [],
   "source": []
  },
  {
   "cell_type": "code",
   "execution_count": 5,
   "metadata": {},
   "outputs": [],
   "source": [
    "nbs = pm.read_notebooks('./')"
   ]
  },
  {
   "cell_type": "code",
   "execution_count": 6,
   "metadata": {},
   "outputs": [
    {
     "data": {
      "text/html": [
       "<div>\n",
       "<style scoped>\n",
       "    .dataframe tbody tr th:only-of-type {\n",
       "        vertical-align: middle;\n",
       "    }\n",
       "\n",
       "    .dataframe tbody tr th {\n",
       "        vertical-align: top;\n",
       "    }\n",
       "\n",
       "    .dataframe thead th {\n",
       "        text-align: right;\n",
       "    }\n",
       "</style>\n",
       "<table border=\"1\" class=\"dataframe\">\n",
       "  <thead>\n",
       "    <tr style=\"text-align: right;\">\n",
       "      <th></th>\n",
       "      <th>name</th>\n",
       "      <th>value</th>\n",
       "      <th>type</th>\n",
       "      <th>filename</th>\n",
       "      <th>key</th>\n",
       "    </tr>\n",
       "  </thead>\n",
       "  <tbody>\n",
       "    <tr>\n",
       "      <th>0</th>\n",
       "      <td>h1_dim</td>\n",
       "      <td>128</td>\n",
       "      <td>parameter</td>\n",
       "      <td>out_1540892594_ppo.ipynb</td>\n",
       "      <td>out_1540892594_ppo.ipynb</td>\n",
       "    </tr>\n",
       "    <tr>\n",
       "      <th>1</th>\n",
       "      <td>h2_dim</td>\n",
       "      <td>64</td>\n",
       "      <td>parameter</td>\n",
       "      <td>out_1540892594_ppo.ipynb</td>\n",
       "      <td>out_1540892594_ppo.ipynb</td>\n",
       "    </tr>\n",
       "    <tr>\n",
       "      <th>2</th>\n",
       "      <td>ts_num</td>\n",
       "      <td>5000000</td>\n",
       "      <td>parameter</td>\n",
       "      <td>out_1540892594_ppo.ipynb</td>\n",
       "      <td>out_1540892594_ppo.ipynb</td>\n",
       "    </tr>\n",
       "    <tr>\n",
       "      <th>3</th>\n",
       "      <td>log_dir</td>\n",
       "      <td>/tmp/gym/1540892660</td>\n",
       "      <td>record</td>\n",
       "      <td>out_1540892594_ppo.ipynb</td>\n",
       "      <td>out_1540892594_ppo.ipynb</td>\n",
       "    </tr>\n",
       "    <tr>\n",
       "      <th>4</th>\n",
       "      <td>h1_dim</td>\n",
       "      <td>64</td>\n",
       "      <td>parameter</td>\n",
       "      <td>out_1540892603_ppo.ipynb</td>\n",
       "      <td>out_1540892603_ppo.ipynb</td>\n",
       "    </tr>\n",
       "    <tr>\n",
       "      <th>5</th>\n",
       "      <td>h2_dim</td>\n",
       "      <td>32</td>\n",
       "      <td>parameter</td>\n",
       "      <td>out_1540892603_ppo.ipynb</td>\n",
       "      <td>out_1540892603_ppo.ipynb</td>\n",
       "    </tr>\n",
       "    <tr>\n",
       "      <th>6</th>\n",
       "      <td>ts_num</td>\n",
       "      <td>5000000</td>\n",
       "      <td>parameter</td>\n",
       "      <td>out_1540892603_ppo.ipynb</td>\n",
       "      <td>out_1540892603_ppo.ipynb</td>\n",
       "    </tr>\n",
       "    <tr>\n",
       "      <th>7</th>\n",
       "      <td>log_dir</td>\n",
       "      <td>/tmp/gym/1540892658</td>\n",
       "      <td>record</td>\n",
       "      <td>out_1540892603_ppo.ipynb</td>\n",
       "      <td>out_1540892603_ppo.ipynb</td>\n",
       "    </tr>\n",
       "    <tr>\n",
       "      <th>8</th>\n",
       "      <td>h1_dim</td>\n",
       "      <td>32</td>\n",
       "      <td>parameter</td>\n",
       "      <td>out_1540892612_ppo.ipynb</td>\n",
       "      <td>out_1540892612_ppo.ipynb</td>\n",
       "    </tr>\n",
       "    <tr>\n",
       "      <th>9</th>\n",
       "      <td>h2_dim</td>\n",
       "      <td>16</td>\n",
       "      <td>parameter</td>\n",
       "      <td>out_1540892612_ppo.ipynb</td>\n",
       "      <td>out_1540892612_ppo.ipynb</td>\n",
       "    </tr>\n",
       "    <tr>\n",
       "      <th>10</th>\n",
       "      <td>ts_num</td>\n",
       "      <td>5000000</td>\n",
       "      <td>parameter</td>\n",
       "      <td>out_1540892612_ppo.ipynb</td>\n",
       "      <td>out_1540892612_ppo.ipynb</td>\n",
       "    </tr>\n",
       "    <tr>\n",
       "      <th>11</th>\n",
       "      <td>log_dir</td>\n",
       "      <td>/tmp/gym/1540892658</td>\n",
       "      <td>record</td>\n",
       "      <td>out_1540892612_ppo.ipynb</td>\n",
       "      <td>out_1540892612_ppo.ipynb</td>\n",
       "    </tr>\n",
       "    <tr>\n",
       "      <th>12</th>\n",
       "      <td>h1_dim</td>\n",
       "      <td>16</td>\n",
       "      <td>parameter</td>\n",
       "      <td>out_1540892620_ppo.ipynb</td>\n",
       "      <td>out_1540892620_ppo.ipynb</td>\n",
       "    </tr>\n",
       "    <tr>\n",
       "      <th>13</th>\n",
       "      <td>h2_dim</td>\n",
       "      <td>8</td>\n",
       "      <td>parameter</td>\n",
       "      <td>out_1540892620_ppo.ipynb</td>\n",
       "      <td>out_1540892620_ppo.ipynb</td>\n",
       "    </tr>\n",
       "    <tr>\n",
       "      <th>14</th>\n",
       "      <td>ts_num</td>\n",
       "      <td>5000000</td>\n",
       "      <td>parameter</td>\n",
       "      <td>out_1540892620_ppo.ipynb</td>\n",
       "      <td>out_1540892620_ppo.ipynb</td>\n",
       "    </tr>\n",
       "    <tr>\n",
       "      <th>15</th>\n",
       "      <td>log_dir</td>\n",
       "      <td>/tmp/gym/1540892661</td>\n",
       "      <td>record</td>\n",
       "      <td>out_1540892620_ppo.ipynb</td>\n",
       "      <td>out_1540892620_ppo.ipynb</td>\n",
       "    </tr>\n",
       "  </tbody>\n",
       "</table>\n",
       "</div>"
      ],
      "text/plain": [
       "       name                value       type                  filename  \\\n",
       "0    h1_dim                  128  parameter  out_1540892594_ppo.ipynb   \n",
       "1    h2_dim                   64  parameter  out_1540892594_ppo.ipynb   \n",
       "2    ts_num              5000000  parameter  out_1540892594_ppo.ipynb   \n",
       "3   log_dir  /tmp/gym/1540892660     record  out_1540892594_ppo.ipynb   \n",
       "4    h1_dim                   64  parameter  out_1540892603_ppo.ipynb   \n",
       "5    h2_dim                   32  parameter  out_1540892603_ppo.ipynb   \n",
       "6    ts_num              5000000  parameter  out_1540892603_ppo.ipynb   \n",
       "7   log_dir  /tmp/gym/1540892658     record  out_1540892603_ppo.ipynb   \n",
       "8    h1_dim                   32  parameter  out_1540892612_ppo.ipynb   \n",
       "9    h2_dim                   16  parameter  out_1540892612_ppo.ipynb   \n",
       "10   ts_num              5000000  parameter  out_1540892612_ppo.ipynb   \n",
       "11  log_dir  /tmp/gym/1540892658     record  out_1540892612_ppo.ipynb   \n",
       "12   h1_dim                   16  parameter  out_1540892620_ppo.ipynb   \n",
       "13   h2_dim                    8  parameter  out_1540892620_ppo.ipynb   \n",
       "14   ts_num              5000000  parameter  out_1540892620_ppo.ipynb   \n",
       "15  log_dir  /tmp/gym/1540892661     record  out_1540892620_ppo.ipynb   \n",
       "\n",
       "                         key  \n",
       "0   out_1540892594_ppo.ipynb  \n",
       "1   out_1540892594_ppo.ipynb  \n",
       "2   out_1540892594_ppo.ipynb  \n",
       "3   out_1540892594_ppo.ipynb  \n",
       "4   out_1540892603_ppo.ipynb  \n",
       "5   out_1540892603_ppo.ipynb  \n",
       "6   out_1540892603_ppo.ipynb  \n",
       "7   out_1540892603_ppo.ipynb  \n",
       "8   out_1540892612_ppo.ipynb  \n",
       "9   out_1540892612_ppo.ipynb  \n",
       "10  out_1540892612_ppo.ipynb  \n",
       "11  out_1540892612_ppo.ipynb  \n",
       "12  out_1540892620_ppo.ipynb  \n",
       "13  out_1540892620_ppo.ipynb  \n",
       "14  out_1540892620_ppo.ipynb  \n",
       "15  out_1540892620_ppo.ipynb  "
      ]
     },
     "execution_count": 6,
     "metadata": {},
     "output_type": "execute_result"
    }
   ],
   "source": [
    "nbs.dataframe"
   ]
  },
  {
   "cell_type": "code",
   "execution_count": 40,
   "metadata": {},
   "outputs": [],
   "source": [
    "x = nbs.dataframe.loc[nbs.dataframe.key == 'out_1540892612_ppo.ipynb', [\"name\", \"value\"]]"
   ]
  },
  {
   "cell_type": "code",
   "execution_count": 43,
   "metadata": {},
   "outputs": [
    {
     "data": {
      "text/html": [
       "<div>\n",
       "<style scoped>\n",
       "    .dataframe tbody tr th:only-of-type {\n",
       "        vertical-align: middle;\n",
       "    }\n",
       "\n",
       "    .dataframe tbody tr th {\n",
       "        vertical-align: top;\n",
       "    }\n",
       "\n",
       "    .dataframe thead th {\n",
       "        text-align: right;\n",
       "    }\n",
       "</style>\n",
       "<table border=\"1\" class=\"dataframe\">\n",
       "  <thead>\n",
       "    <tr style=\"text-align: right;\">\n",
       "      <th>name</th>\n",
       "      <th>h1_dim</th>\n",
       "      <th>h2_dim</th>\n",
       "      <th>ts_num</th>\n",
       "      <th>log_dir</th>\n",
       "    </tr>\n",
       "  </thead>\n",
       "  <tbody>\n",
       "    <tr>\n",
       "      <th>value</th>\n",
       "      <td>32</td>\n",
       "      <td>16</td>\n",
       "      <td>5000000</td>\n",
       "      <td>/tmp/gym/1540892658</td>\n",
       "    </tr>\n",
       "  </tbody>\n",
       "</table>\n",
       "</div>"
      ],
      "text/plain": [
       "name  h1_dim h2_dim   ts_num              log_dir\n",
       "value     32     16  5000000  /tmp/gym/1540892658"
      ]
     },
     "execution_count": 43,
     "metadata": {},
     "output_type": "execute_result"
    }
   ],
   "source": [
    "x.set_index(\"name\").T"
   ]
  },
  {
   "cell_type": "code",
   "execution_count": 47,
   "metadata": {},
   "outputs": [
    {
     "name": "stdout",
     "output_type": "stream",
     "text": [
      "     name value\n",
      "0  h1_dim   128\n",
      "1  h2_dim    64\n"
     ]
    },
    {
     "data": {
      "image/png": "[encoded data removed]",
      "text/plain": [
       "<Figure size 432x288 with 1 Axes>"
      ]
     },
     "metadata": {
      "needs_background": "light"
     },
     "output_type": "display_data"
    },
    {
     "name": "stdout",
     "output_type": "stream",
     "text": [
      "     name value\n",
      "4  h1_dim    64\n",
      "5  h2_dim    32\n",
      "     name value\n",
      "8  h1_dim    32\n",
      "9  h2_dim    16\n",
      "      name value\n",
      "12  h1_dim    16\n",
      "13  h2_dim     8\n"
     ]
    },
    {
     "data": {
      "image/png": "[encoded data removed]",
      "text/plain": [
       "<Figure size 432x288 with 1 Axes>"
      ]
     },
     "metadata": {
      "needs_background": "light"
     },
     "output_type": "display_data"
    }
   ],
   "source": [
    "for key in nbs.dataframe.key.unique():\n",
    "    idx = nbs.dataframe.name.str.contains(\"^h\") & (nbs.dataframe.key == key)\n",
    "    print(nbs.dataframe.loc[idx, [\"name\", \"value\"]])\n",
    "    try:\n",
    "        idx = (nbs.dataframe.name == 'log_dir') & (nbs.dataframe.key == key)\n",
    "        plot_results(nbs.dataframe.value.loc[idx].values[0])\n",
    "    except:\n",
    "        pass"
   ]
  },
  {
   "cell_type": "code",
   "execution_count": null,
   "metadata": {},
   "outputs": [],
   "source": [
    "for d in nbs.dataframe.value.loc[idx]:\n",
    "    print(d)\n",
    "    plot_results(d)"
   ]
  },
  {
   "cell_type": "code",
   "execution_count": null,
   "metadata": {},
   "outputs": [],
   "source": []
  },
  {
   "cell_type": "code",
   "execution_count": null,
   "metadata": {},
   "outputs": [],
   "source": [
    "for key in nbs.dataframe.key.unique():\n",
    "    nbs.display_output(key, 'matplotlib_plot')"
   ]
  },
  {
   "cell_type": "code",
   "execution_count": null,
   "metadata": {},
   "outputs": [],
   "source": []
  }
 ],
 "metadata": {
  "kernelspec": {
   "display_name": "Python 3",
   "language": "python",
   "name": "python3"
  },
  "language_info": {
   "codemirror_mode": {
    "name": "ipython",
    "version": 3
   },
   "file_extension": ".py",
   "mimetype": "text/x-python",
   "name": "python",
   "nbconvert_exporter": "python",
   "pygments_lexer": "ipython3",
   "version": "3.6.3"
  }
 },
 "nbformat": 4,
 "nbformat_minor": 2
}
